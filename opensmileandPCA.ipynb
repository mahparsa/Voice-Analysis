{
  "nbformat": 4,
  "nbformat_minor": 0,
  "metadata": {
    "colab": {
      "provenance": []
    },
    "kernelspec": {
      "name": "python3",
      "display_name": "Python 3"
    },
    "language_info": {
      "name": "python"
    }
  },
  "cells": [
    {
      "cell_type": "code",
      "execution_count": 40,
      "metadata": {
        "colab": {
          "base_uri": "https://localhost:8080/"
        },
        "id": "rxQB-RDBq8Wa",
        "outputId": "df3c0044-1eda-4701-c2e7-644005cb2610"
      },
      "outputs": [
        {
          "output_type": "stream",
          "name": "stdout",
          "text": [
            "Requirement already satisfied: opensmile in /usr/local/lib/python3.10/dist-packages (2.4.2)\n",
            "Requirement already satisfied: audobject>=0.6.1 in /usr/local/lib/python3.10/dist-packages (from opensmile) (0.7.9)\n",
            "Requirement already satisfied: audinterface>=0.7.0 in /usr/local/lib/python3.10/dist-packages (from opensmile) (1.1.0)\n",
            "Requirement already satisfied: audformat<2.0.0,>=1.0.1 in /usr/local/lib/python3.10/dist-packages (from audinterface>=0.7.0->opensmile) (1.0.1)\n",
            "Requirement already satisfied: audiofile>=1.3.0 in /usr/local/lib/python3.10/dist-packages (from audinterface>=0.7.0->opensmile) (1.3.0)\n",
            "Requirement already satisfied: audmath>=1.3.0 in /usr/local/lib/python3.10/dist-packages (from audinterface>=0.7.0->opensmile) (1.3.0)\n",
            "Requirement already satisfied: audresample<2.0.0,>=1.1.0 in /usr/local/lib/python3.10/dist-packages (from audinterface>=0.7.0->opensmile) (1.3.2)\n",
            "Requirement already satisfied: audeer>=1.18.0 in /usr/local/lib/python3.10/dist-packages (from audobject>=0.6.1->opensmile) (1.20.1)\n",
            "Requirement already satisfied: importlib-metadata>=4.8.0 in /usr/local/lib/python3.10/dist-packages (from audobject>=0.6.1->opensmile) (6.8.0)\n",
            "Requirement already satisfied: oyaml in /usr/local/lib/python3.10/dist-packages (from audobject>=0.6.1->opensmile) (1.0)\n",
            "Requirement already satisfied: tqdm in /usr/local/lib/python3.10/dist-packages (from audeer>=1.18.0->audobject>=0.6.1->opensmile) (4.66.0)\n",
            "Requirement already satisfied: iso-639 in /usr/local/lib/python3.10/dist-packages (from audformat<2.0.0,>=1.0.1->audinterface>=0.7.0->opensmile) (0.4.5)\n",
            "Requirement already satisfied: iso3166 in /usr/local/lib/python3.10/dist-packages (from audformat<2.0.0,>=1.0.1->audinterface>=0.7.0->opensmile) (2.1.1)\n",
            "Requirement already satisfied: pyyaml>=5.4.1 in /usr/local/lib/python3.10/dist-packages (from audformat<2.0.0,>=1.0.1->audinterface>=0.7.0->opensmile) (6.0.1)\n",
            "Requirement already satisfied: pandas>=1.4.1 in /usr/local/lib/python3.10/dist-packages (from audformat<2.0.0,>=1.0.1->audinterface>=0.7.0->opensmile) (1.5.3)\n",
            "Requirement already satisfied: numpy in /usr/local/lib/python3.10/dist-packages (from audiofile>=1.3.0->audinterface>=0.7.0->opensmile) (1.23.5)\n",
            "Requirement already satisfied: soundfile in /usr/local/lib/python3.10/dist-packages (from audiofile>=1.3.0->audinterface>=0.7.0->opensmile) (0.12.1)\n",
            "Requirement already satisfied: zipp>=0.5 in /usr/local/lib/python3.10/dist-packages (from importlib-metadata>=4.8.0->audobject>=0.6.1->opensmile) (3.16.2)\n",
            "Requirement already satisfied: python-dateutil>=2.8.1 in /usr/local/lib/python3.10/dist-packages (from pandas>=1.4.1->audformat<2.0.0,>=1.0.1->audinterface>=0.7.0->opensmile) (2.8.2)\n",
            "Requirement already satisfied: pytz>=2020.1 in /usr/local/lib/python3.10/dist-packages (from pandas>=1.4.1->audformat<2.0.0,>=1.0.1->audinterface>=0.7.0->opensmile) (2023.3)\n",
            "Requirement already satisfied: cffi>=1.0 in /usr/local/lib/python3.10/dist-packages (from soundfile->audiofile>=1.3.0->audinterface>=0.7.0->opensmile) (1.15.1)\n",
            "Requirement already satisfied: pycparser in /usr/local/lib/python3.10/dist-packages (from cffi>=1.0->soundfile->audiofile>=1.3.0->audinterface>=0.7.0->opensmile) (2.21)\n",
            "Requirement already satisfied: six>=1.5 in /usr/local/lib/python3.10/dist-packages (from python-dateutil>=2.8.1->pandas>=1.4.1->audformat<2.0.0,>=1.0.1->audinterface>=0.7.0->opensmile) (1.16.0)\n"
          ]
        }
      ],
      "source": [
        "!pip install opensmile"
      ]
    },
    {
      "cell_type": "code",
      "source": [
        "import opensmile\n"
      ],
      "metadata": {
        "id": "P9UedPAgrFWO"
      },
      "execution_count": 41,
      "outputs": []
    },
    {
      "cell_type": "code",
      "source": [
        "import pandas as pd\n"
      ],
      "metadata": {
        "id": "AO1yR20yrb33"
      },
      "execution_count": 42,
      "outputs": []
    },
    {
      "cell_type": "code",
      "source": [
        "from google.colab import drive\n",
        "drive.mount('/content/drive')"
      ],
      "metadata": {
        "colab": {
          "base_uri": "https://localhost:8080/"
        },
        "id": "ymYa4L2PrlD_",
        "outputId": "2df3971d-be7c-4155-e0c1-0601f2301a1d"
      },
      "execution_count": 43,
      "outputs": [
        {
          "output_type": "stream",
          "name": "stdout",
          "text": [
            "Drive already mounted at /content/drive; to attempt to forcibly remount, call drive.mount(\"/content/drive\", force_remount=True).\n"
          ]
        }
      ]
    },
    {
      "cell_type": "code",
      "source": [
        "audio_path = '/content/drive/MyDrive/CIHR/French-data/haiti1.mp3'"
      ],
      "metadata": {
        "id": "A6_HbXTPr7_c"
      },
      "execution_count": 44,
      "outputs": []
    },
    {
      "cell_type": "code",
      "source": [
        "google_drive_folder = \"/content/drive/My Drive/CIHR/French-data/features\"\n"
      ],
      "metadata": {
        "id": "d6fb9cJEsaP3"
      },
      "execution_count": 45,
      "outputs": []
    },
    {
      "cell_type": "code",
      "source": [
        "smile = opensmile.Smile(\n",
        "    feature_set=opensmile.FeatureSet.eGeMAPSv02,\n",
        "    feature_level=opensmile.FeatureLevel.LowLevelDescriptors,\n",
        ")"
      ],
      "metadata": {
        "id": "WGNcvmQQrtdm"
      },
      "execution_count": 46,
      "outputs": []
    },
    {
      "cell_type": "code",
      "source": [
        "features = smile.process_file(audio_path)\n"
      ],
      "metadata": {
        "id": "5ri7amMBr0s6"
      },
      "execution_count": 47,
      "outputs": []
    },
    {
      "cell_type": "code",
      "source": [
        "features_df = pd.DataFrame(features)\n",
        "\n",
        "# Save features as CSV in Google Drive\n",
        "csv_filename = \"extracted_features.csv\"\n",
        "features_csv_path = google_drive_folder + csv_filename\n",
        "features_df.to_csv(features_csv_path, index=False)\n",
        "\n",
        "# Provide a download link to the user\n",
        "#files.download(features_csv_path)"
      ],
      "metadata": {
        "id": "AXjzm_bOsRhX"
      },
      "execution_count": 48,
      "outputs": []
    },
    {
      "cell_type": "code",
      "source": [
        "print(features_df)"
      ],
      "metadata": {
        "id": "fgj_KyMnuaMu"
      },
      "execution_count": null,
      "outputs": []
    },
    {
      "cell_type": "code",
      "source": [
        "features_df.shape\n"
      ],
      "metadata": {
        "colab": {
          "base_uri": "https://localhost:8080/"
        },
        "id": "CA_HSjR4Z7l8",
        "outputId": "704e2f92-42bb-4f99-f032-825b4d4bb99e"
      },
      "execution_count": 36,
      "outputs": [
        {
          "output_type": "execute_result",
          "data": {
            "text/plain": [
              "(5079, 25)"
            ]
          },
          "metadata": {},
          "execution_count": 36
        }
      ]
    },
    {
      "cell_type": "code",
      "source": [
        "feature_names = features_df.columns.tolist()\n",
        "\n",
        "# Print the names of the features\n",
        "print(\"Feature names:\", feature_names)"
      ],
      "metadata": {
        "colab": {
          "base_uri": "https://localhost:8080/"
        },
        "id": "P06u_tNsbWoc",
        "outputId": "ad30f51b-1c2f-4b52-e635-35458830ce1b"
      },
      "execution_count": 37,
      "outputs": [
        {
          "output_type": "stream",
          "name": "stdout",
          "text": [
            "Feature names: ['Loudness_sma3', 'alphaRatio_sma3', 'hammarbergIndex_sma3', 'slope0-500_sma3', 'slope500-1500_sma3', 'spectralFlux_sma3', 'mfcc1_sma3', 'mfcc2_sma3', 'mfcc3_sma3', 'mfcc4_sma3', 'F0semitoneFrom27.5Hz_sma3nz', 'jitterLocal_sma3nz', 'shimmerLocaldB_sma3nz', 'HNRdBACF_sma3nz', 'logRelF0-H1-H2_sma3nz', 'logRelF0-H1-A3_sma3nz', 'F1frequency_sma3nz', 'F1bandwidth_sma3nz', 'F1amplitudeLogRelF0_sma3nz', 'F2frequency_sma3nz', 'F2bandwidth_sma3nz', 'F2amplitudeLogRelF0_sma3nz', 'F3frequency_sma3nz', 'F3bandwidth_sma3nz', 'F3amplitudeLogRelF0_sma3nz']\n"
          ]
        }
      ]
    },
    {
      "cell_type": "code",
      "source": [
        "num_features = features_df.shape[1]\n",
        "print(\"Number of features:\", num_features)"
      ],
      "metadata": {
        "colab": {
          "base_uri": "https://localhost:8080/"
        },
        "id": "7S2hADHDZvB_",
        "outputId": "c1254798-cfb3-4849-9d10-6332ca0f6b67"
      },
      "execution_count": 34,
      "outputs": [
        {
          "output_type": "stream",
          "name": "stdout",
          "text": [
            "Number of features: 25\n"
          ]
        }
      ]
    },
    {
      "cell_type": "code",
      "source": [
        "average_features = features_df.mean()\n",
        "print(average_features)"
      ],
      "metadata": {
        "colab": {
          "base_uri": "https://localhost:8080/"
        },
        "id": "o3Ok52sVjxIp",
        "outputId": "2c64b516-c455-4a36-e8da-c239d748dc67"
      },
      "execution_count": 57,
      "outputs": [
        {
          "output_type": "stream",
          "name": "stdout",
          "text": [
            "Loudness_sma3                     1.270479\n",
            "alphaRatio_sma3                 -11.083415\n",
            "hammarbergIndex_sma3             19.109575\n",
            "slope0-500_sma3                  -0.009504\n",
            "slope500-1500_sma3               -0.013443\n",
            "spectralFlux_sma3                 1.059790\n",
            "mfcc1_sma3                       17.635002\n",
            "mfcc2_sma3                        8.146254\n",
            "mfcc3_sma3                       17.951620\n",
            "mfcc4_sma3                       -0.199241\n",
            "F0semitoneFrom27.5Hz_sma3nz      15.709788\n",
            "jitterLocal_sma3nz                0.022065\n",
            "shimmerLocaldB_sma3nz             0.720966\n",
            "HNRdBACF_sma3nz                   2.171591\n",
            "logRelF0-H1-H2_sma3nz             5.177893\n",
            "logRelF0-H1-A3_sma3nz            13.991380\n",
            "F1frequency_sma3nz              543.262817\n",
            "F1bandwidth_sma3nz             1104.453613\n",
            "F1amplitudeLogRelF0_sma3nz      -83.669189\n",
            "F2frequency_sma3nz             1548.645264\n",
            "F2bandwidth_sma3nz              789.495239\n",
            "F2amplitudeLogRelF0_sma3nz      -92.254135\n",
            "F3frequency_sma3nz             2564.042236\n",
            "F3bandwidth_sma3nz              686.973389\n",
            "F3amplitudeLogRelF0_sma3nz      -93.639008\n",
            "dtype: float32\n"
          ]
        }
      ]
    },
    {
      "cell_type": "code",
      "source": [
        "# Install required packages (if not already installed)\n",
        "!pip install pandas scikit-learn matplotlib\n",
        "\n",
        "import pandas as pd\n",
        "from sklearn.decomposition import PCA\n",
        "import matplotlib.pyplot as plt\n",
        "\n",
        "# Load your data into a DataFrame (replace this with your data)\n",
        "# data_df = pd.read_csv('your_data.csv')\n",
        "\n",
        "# Separate features and target variable (if applicable)\n",
        "# X = data_df.drop('target', axis=1)\n",
        "X = features_df\n",
        "\n",
        "# Perform standardization (optional but recommended for PCA)\n",
        "from sklearn.preprocessing import StandardScaler\n",
        "scaler = StandardScaler()\n",
        "scaled_features = scaler.fit_transform(X)\n",
        "\n",
        "# Initialize PCA\n",
        "pca = PCA()\n",
        "\n",
        "# Apply PCA to the scaled features\n",
        "pca.fit(scaled_features)\n",
        "\n",
        "# Calculate cumulative explained variance\n",
        "cumulative_explained_variance = pca.explained_variance_ratio_.cumsum()\n",
        "\n",
        "# Plot the cumulative explained variance curve\n",
        "plt.plot(range(1, len(cumulative_explained_variance) + 1), cumulative_explained_variance, marker='o')\n",
        "plt.xlabel('Number of Components')\n",
        "plt.ylabel('Cumulative Explained Variance')\n",
        "plt.title('Cumulative Explained Variance for Different Numbers of Components')\n",
        "plt.grid()\n",
        "plt.show()\n",
        "\n",
        "# Set a threshold (e.g., 95% or 99%)\n",
        "threshold = 0.95  # Adjust as needed\n",
        "\n",
        "# Find the optimal number of components that meets the threshold\n",
        "optimal_components = next(i for i, val in enumerate(cumulative_explained_variance) if val >= threshold) + 1\n",
        "\n",
        "print(f'Optimal Number of Components: {optimal_components}')\n"
      ],
      "metadata": {
        "colab": {
          "base_uri": "https://localhost:8080/",
          "height": 778
        },
        "id": "zrwZYgZePRug",
        "outputId": "8b50a535-5f71-4065-e08e-4d566c71942c"
      },
      "execution_count": 60,
      "outputs": [
        {
          "output_type": "stream",
          "name": "stdout",
          "text": [
            "Requirement already satisfied: pandas in /usr/local/lib/python3.10/dist-packages (1.5.3)\n",
            "Requirement already satisfied: scikit-learn in /usr/local/lib/python3.10/dist-packages (1.2.2)\n",
            "Requirement already satisfied: matplotlib in /usr/local/lib/python3.10/dist-packages (3.7.1)\n",
            "Requirement already satisfied: python-dateutil>=2.8.1 in /usr/local/lib/python3.10/dist-packages (from pandas) (2.8.2)\n",
            "Requirement already satisfied: pytz>=2020.1 in /usr/local/lib/python3.10/dist-packages (from pandas) (2023.3)\n",
            "Requirement already satisfied: numpy>=1.21.0 in /usr/local/lib/python3.10/dist-packages (from pandas) (1.23.5)\n",
            "Requirement already satisfied: scipy>=1.3.2 in /usr/local/lib/python3.10/dist-packages (from scikit-learn) (1.10.1)\n",
            "Requirement already satisfied: joblib>=1.1.1 in /usr/local/lib/python3.10/dist-packages (from scikit-learn) (1.3.2)\n",
            "Requirement already satisfied: threadpoolctl>=2.0.0 in /usr/local/lib/python3.10/dist-packages (from scikit-learn) (3.2.0)\n",
            "Requirement already satisfied: contourpy>=1.0.1 in /usr/local/lib/python3.10/dist-packages (from matplotlib) (1.1.0)\n",
            "Requirement already satisfied: cycler>=0.10 in /usr/local/lib/python3.10/dist-packages (from matplotlib) (0.11.0)\n",
            "Requirement already satisfied: fonttools>=4.22.0 in /usr/local/lib/python3.10/dist-packages (from matplotlib) (4.42.0)\n",
            "Requirement already satisfied: kiwisolver>=1.0.1 in /usr/local/lib/python3.10/dist-packages (from matplotlib) (1.4.4)\n",
            "Requirement already satisfied: packaging>=20.0 in /usr/local/lib/python3.10/dist-packages (from matplotlib) (23.1)\n",
            "Requirement already satisfied: pillow>=6.2.0 in /usr/local/lib/python3.10/dist-packages (from matplotlib) (9.4.0)\n",
            "Requirement already satisfied: pyparsing>=2.3.1 in /usr/local/lib/python3.10/dist-packages (from matplotlib) (3.1.1)\n",
            "Requirement already satisfied: six>=1.5 in /usr/local/lib/python3.10/dist-packages (from python-dateutil>=2.8.1->pandas) (1.16.0)\n"
          ]
        },
        {
          "output_type": "display_data",
          "data": {
            "text/plain": [
              "<Figure size 640x480 with 1 Axes>"
            ],
            "image/png": "[encoded data removed]"
          },
          "metadata": {}
        },
        {
          "output_type": "stream",
          "name": "stdout",
          "text": [
            "Optimal Number of Components: 14\n"
          ]
        }
      ]
    },
    {
      "cell_type": "code",
      "source": [
        "import numpy as np\n",
        "from sklearn.decomposition import PCA\n",
        "\n",
        "# Assuming X is your data frame of features, where each row is a sample and each column is a feature\n",
        "# Make sure to normalize or standardize your features before applying PCA if necessary\n",
        "\n",
        "# Number of optimal principal components\n",
        "n_components = optimal_components\n",
        "\n",
        "# Initialize PCA with the desired number of components\n",
        "pca = PCA(n_components=n_components)\n",
        "\n",
        "# Fit PCA to your data\n",
        "pca.fit(X)\n",
        "\n",
        "# Transform your data using the computed principal components\n",
        "X_pca = pca.transform(X)\n",
        "\n",
        "# X_pca now contains the transformed data with the specified number of principal components\n"
      ],
      "metadata": {
        "id": "RwlColMZ26U7"
      },
      "execution_count": 61,
      "outputs": []
    }
  ]
}